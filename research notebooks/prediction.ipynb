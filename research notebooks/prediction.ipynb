{
 "cells": [
  {
   "cell_type": "code",
   "execution_count": 32,
   "metadata": {},
   "outputs": [],
   "source": [
    "import pickle \n",
    "with open(r'src/Dataloaders/train_loader.pkl', 'rb') as f:\n",
    "    train_loader = pickle.load(f)"
   ]
  },
  {
   "cell_type": "code",
   "execution_count": 33,
   "metadata": {},
   "outputs": [],
   "source": [
    "for val in train_loader:\n",
    "    data = val['input_ids'] \n",
    "    break"
   ]
  },
  {
   "cell_type": "code",
   "execution_count": 34,
   "metadata": {},
   "outputs": [],
   "source": [
    "import os"
   ]
  },
  {
   "cell_type": "code",
   "execution_count": 35,
   "metadata": {},
   "outputs": [
    {
     "data": {
      "text/plain": [
       "'d:\\\\DecoderKAN'"
      ]
     },
     "execution_count": 35,
     "metadata": {},
     "output_type": "execute_result"
    }
   ],
   "source": [
    "os.getcwd()"
   ]
  },
  {
   "cell_type": "code",
   "execution_count": null,
   "metadata": {},
   "outputs": [],
   "source": []
  },
  {
   "cell_type": "code",
   "execution_count": 37,
   "metadata": {},
   "outputs": [
    {
     "name": "stdout",
     "output_type": "stream",
     "text": [
      "Tokenizer loaded with vocab size: 512\n",
      "Pad token: None, EOS token: None\n",
      "Model loaded on cpu from transformer_qed_sequence_full.pth\n",
      "Input text: AntiPart e_[ID](X) e_[ID](X)^(*) to s_eps_18941(X) AntiPart s_eta_22311(X)^(*)\n",
      "Predicted token IDs: [1, 5, 65, 33, 18, 103, 71, 49, 33, 14, 89, 54, 239, 46, 33, 38, 32, 15, 61, 135, 33, 90, 61, 140, 12, 15, 8, 94, 33, 95, 7, 110, 140, 12, 222, 8, 38, 32, 17, 104, 109, 8, 2, 8]\n",
      "Decoded output: [SEP] % gam _ 5 33 }( p _ 1 )_ v ^(*)/( m _ e ^ 2 Ġ+ Ġs _ 12 Ġ+ Ġ1 / 2 * reg _ prop ) Ġ: Ġ1 / 36 * e ^ 4 *( 16 * [PAD] *\n"
     ]
    }
   ],
   "source": [
    "# Import necessary libraries\n",
    "import torch\n",
    "from src.model import build_transformer  # Ensure this matches your model.py\n",
    "from transformers import PreTrainedTokenizerFast  # For loading the tokenizer\n",
    "\n",
    "# Set device\n",
    "DEVICE = torch.device(\"cuda\" if torch.cuda.is_available() else \"cpu\")\n",
    "VOCAB_SIZE = 512\n",
    "MAX_SEQ_LEN = 44\n",
    "\n",
    "# Load the tokenizer\n",
    "tokenizer = PreTrainedTokenizerFast.from_pretrained(\"src/tokenizer/QED_TOKENIZER\")\n",
    "print(f\"Tokenizer loaded with vocab size: {tokenizer.vocab_size}\")\n",
    "\n",
    "# Ensure padding and truncation settings\n",
    "tokenizer.pad_token = tokenizer.eos_token  # Often needed for consistency\n",
    "print(f\"Pad token: {tokenizer.pad_token}, EOS token: {tokenizer.eos_token}\")\n",
    "\n",
    "# Function to create causal mask (same as training)\n",
    "def create_causal_mask(size, device):\n",
    "    mask = torch.triu(torch.ones(size, size), diagonal=1).bool().to(device)\n",
    "    return ~mask\n",
    "\n",
    "# Load the saved model\n",
    "model = build_transformer(vocab_size=VOCAB_SIZE, d_model=512, num_heads=8)\n",
    "checkpoint = torch.load(\"transformer_qed_sequence_full.pth\", map_location=DEVICE)\n",
    "model.load_state_dict(checkpoint['model_state_dict'])\n",
    "model.to(DEVICE)\n",
    "model.eval()\n",
    "print(f\"Model loaded on {DEVICE} from transformer_qed_sequence_full.pth\")\n",
    "\n",
    "# Example input: Tokenize a physics interaction\n",
    "# Replace this string with your actual input (e.g., from your CSV)\n",
    "input_text = \"AntiPart e_[ID](X) e_[ID](X)^(*) to s_eps_18941(X) AntiPart s_eta_22311(X)^(*)\"\n",
    "tokenizer.add_special_tokens({'pad_token': '[PAD]'})\n",
    "encoded = tokenizer(input_text, return_tensors=\"pt\", padding=\"max_length\", max_length=MAX_SEQ_LEN, truncation=True)\n",
    "src = encoded['input_ids'].to(DEVICE)  # [1, 44]\n",
    "src_mask = encoded['attention_mask'].unsqueeze(1).unsqueeze(2).expand(1, 1, MAX_SEQ_LEN, MAX_SEQ_LEN).to(DEVICE)\n",
    "\n",
    "# Start token for target sequence\n",
    "tgt_start = torch.tensor([[tokenizer.bos_token_id if tokenizer.bos_token_id is not None else 1]], dtype=torch.long).to(DEVICE)  # [1, 1]\n",
    "\n",
    "# Inference: Generate sequence autoregressively\n",
    "predicted_sequence = tgt_start\n",
    "with torch.no_grad():\n",
    "    for _ in range(MAX_SEQ_LEN - 1):  # Generate up to MAX_SEQ_LEN - 1 tokens\n",
    "        tgt_seq_len = predicted_sequence.size(1)\n",
    "        causal_mask = create_causal_mask(tgt_seq_len, DEVICE)\n",
    "        tgt_padding_mask = (predicted_sequence != tokenizer.pad_token_id).unsqueeze(1).unsqueeze(2)\n",
    "        tgt_mask = causal_mask.unsqueeze(0).unsqueeze(0).expand(1, 1, tgt_seq_len, tgt_seq_len)\n",
    "        tgt_mask = tgt_mask & tgt_padding_mask.expand(1, 1, tgt_seq_len, tgt_seq_len)\n",
    "        cross_mask = (src != tokenizer.pad_token_id).unsqueeze(1).unsqueeze(2).expand(1, 1, tgt_seq_len, MAX_SEQ_LEN)\n",
    "\n",
    "        output = model(src, predicted_sequence, src_mask, tgt_mask, cross_mask)  # [1, tgt_seq_len, VOCAB_SIZE]\n",
    "        next_token_logits = output[:, -1, :]  # [1, VOCAB_SIZE]\n",
    "        next_token = next_token_logits.argmax(dim=-1, keepdim=True)  # [1, 1]\n",
    "        predicted_sequence = torch.cat([predicted_sequence, next_token], dim=1)  # [1, tgt_seq_len + 1]\n",
    "\n",
    "        # Stop if end token is predicted\n",
    "        if next_token.item() == tokenizer.eos_token_id:\n",
    "            break\n",
    "\n",
    "# Decode the predicted sequence\n",
    "predicted_tokens = predicted_sequence.tolist()[0]  # List of token IDs, e.g., [1, 108, 11, ...]\n",
    "decoded_output = tokenizer.decode(predicted_tokens)\n",
    "print(f\"Input text: {input_text}\")\n",
    "print(f\"Predicted token IDs: {predicted_tokens}\")\n",
    "print(f\"Decoded output: {decoded_output}\")"
   ]
  },
  {
   "cell_type": "code",
   "execution_count": null,
   "metadata": {},
   "outputs": [],
   "source": [
    "data[0].unsqueeze(0)"
   ]
  },
  {
   "cell_type": "code",
   "execution_count": null,
   "metadata": {},
   "outputs": [],
   "source": []
  }
 ],
 "metadata": {
  "kernelspec": {
   "display_name": "venv",
   "language": "python",
   "name": "python3"
  },
  "language_info": {
   "codemirror_mode": {
    "name": "ipython",
    "version": 3
   },
   "file_extension": ".py",
   "mimetype": "text/x-python",
   "name": "python",
   "nbconvert_exporter": "python",
   "pygments_lexer": "ipython3",
   "version": "3.12.4"
  }
 },
 "nbformat": 4,
 "nbformat_minor": 2
}
