{
 "cells": [
  {
   "cell_type": "code",
   "execution_count": null,
   "metadata": {},
   "outputs": [],
   "source": []
  },
  {
   "cell_type": "markdown",
   "metadata": {},
   "source": [
    "### The QED_data.txt, is a compiled version of all the collected datafrom the given dataset \n",
    "* It contains the compiled version of QED-2-to-2-diag-TreeLevel-{0 - 9}.txt \n",
    "* The Dataset will be converted into the csv format \n",
    "* the CSV format will consists of two attributes named, text and label \n",
    "* text attribute is the attribute, Where it consists information about the Particle Interaction, to Vertex to Amplitude \n",
    "* The Label column is the Squared Amplitude that is the prediction task "
   ]
  },
  {
   "cell_type": "code",
   "execution_count": null,
   "metadata": {},
   "outputs": [],
   "source": [
    "input_file = '../QED_data/QED_data.txt'\n",
    "output_file = '../QED_data/processed_dataset.csv'"
   ]
  },
  {
   "cell_type": "code",
   "execution_count": null,
   "metadata": {},
   "outputs": [],
   "source": [
    "pattern = r'Interaction:(.*?)\\s*:\\s*.*:\\s*(.*?)\\s*:\\s*(.*)'\n",
    "\n",
    "data = []\n",
    "current_block = \"\""
   ]
  },
  {
   "cell_type": "code",
   "execution_count": null,
   "metadata": {},
   "outputs": [],
   "source": [
    "with open(input_file, 'r') as file:\n",
    "    for line in file:\n",
    "        if 'Interaction:' in line and current_block:\n",
    "            match = re.search(pattern, current_block, re.DOTALL)\n",
    "            if match:\n",
    "                input_text = match[1].strip()\n",
    "                squared_amplitude = match[3].strip()\n",
    "\n",
    "                input_text = re.sub(r'\\bInteraction\\b', '', input_text)\n",
    "                input_text = re.sub(r'\\bOffShell\\b', '', input_text)\n",
    "                input_text = re.sub(r'\\bVertex\\b', '', input_text)\n",
    "\n",
    "                input_text = re.sub(r'e_\\w+_\\d+', 'e_[ID]', input_text)\n",
    "                input_text = re.sub(r'p_\\d+', 'p_[ID]', input_text)\n",
    "                input_text = re.sub(r'X_\\d+', 'X_[ID]', input_text)\n",
    "\n",
    "\n",
    "                input_text = re.sub(r'gamma_{%.*?}', 'gamma_{...}', input_text)\n",
    "\n",
    "                input_text = re.sub(r'\\w+_{\\w+}', '[TENSOR]', input_text)\n",
    "\n",
    "                input_text = re.sub(r'\\((.*?)\\)', '(X)', input_text)   # Keep (X) for position terms\n",
    "                input_text = re.sub(r'\\^\\((.*?)\\)', '^(*)', input_text) # Keep ^(*) for conjugates\n",
    "\n",
    "    \n",
    "                input_text = re.sub(r'u_\\(\\*\\)', 'u_(*)', input_text)\n",
    "                input_text = re.sub(r'v_\\(\\*\\)', 'v_(*)', input_text)\n",
    "\n",
    "\n",
    "                input_text = re.sub(r'\\s+', ' ', input_text).strip()\n",
    "\n",
    "\n",
    "                data.append({\n",
    "                    'text': input_text,\n",
    "                    'label': squared_amplitude\n",
    "                })\n",
    "\n",
    "            current_block = \"\"\n",
    "\n",
    "        current_block += line\n",
    "\n",
    "    if current_block:\n",
    "        match = re.search(pattern, current_block, re.DOTALL)\n",
    "        if match:\n",
    "            input_text = match[1].strip()\n",
    "            squared_amplitude = match[3].strip()\n",
    "\n",
    "            input_text = re.sub(r'\\bInteraction\\b', '', input_text)\n",
    "            input_text = re.sub(r'\\bOffShell\\b', '', input_text)\n",
    "            input_text = re.sub(r'\\bVertex\\b', '', input_text)\n",
    "\n",
    "            input_text = re.sub(r'e_\\w+_\\d+', 'e_[ID]', input_text)\n",
    "            input_text = re.sub(r'p_\\d+', 'p_[ID]', input_text)\n",
    "            input_text = re.sub(r'X_\\d+', 'X_[ID]', input_text)\n",
    "            input_text = re.sub(r'gamma_{%.*?}', 'gamma_{...}', input_text)\n",
    "            input_text = re.sub(r'\\w+_{\\w+}', '[TENSOR]', input_text)\n",
    "\n",
    "            input_text = re.sub(r'\\((.*?)\\)', '(X)', input_text)\n",
    "            input_text = re.sub(r'\\^\\((.*?)\\)', '^(*)', input_text)\n",
    "\n",
    "            input_text = re.sub(r'u_\\(\\*\\)', 'u_(*)', input_text)\n",
    "            input_text = re.sub(r'v_\\(\\*\\)', 'v_(*)', input_text)\n",
    "            input_text = re.sub(r'\\s+', ' ', input_text).strip()\n",
    "\n",
    "            data.append({\n",
    "                'text': input_text,\n",
    "                'label': squared_amplitude\n",
    "            })"
   ]
  },
  {
   "cell_type": "code",
   "execution_count": null,
   "metadata": {},
   "outputs": [
    {
     "name": "stdout",
     "output_type": "stream",
     "text": [
      "✅ Processed 15552 samples.\n",
      "                                                text  \\\n",
      "0  e_[ID](X)^(*) e_[ID](X)^(*) to e_[ID](X) e_[ID...   \n",
      "1  e_[ID](X)^(*) e_[ID](X)^(*) to e_[ID](X) e_[ID...   \n",
      "2  e_[ID](X)^(*) e_[ID](X)^(*) to e_[ID](X) e_[ID...   \n",
      "3  e_[ID](X)^(*) e_[ID](X)^(*) to e_[ID](X) e_[ID...   \n",
      "4  e_[ID](X)^(*) e_[ID](X)^(*) to e_[ID](X) e_[ID...   \n",
      "\n",
      "                                               label  \n",
      "0  2*e^4*(m_e^4 + -1/2*m_e^2*s_13 + 1/2*s_14*s_23...  \n",
      "1  2*e^4*(m_e^4 + -1/2*m_e^2*s_14 + -1/2*m_e^2*s_...  \n",
      "2  2*e^4*(m_e^4 + -1/2*m_e^2*s_13 + 1/2*s_14*s_23...  \n",
      "3  2*e^4*(m_e^4 + -1/2*m_e^2*s_14 + -1/2*m_e^2*s_...  \n",
      "4  8*e^4*(m_e^4 + -1/2*m_e^2*s_13 + 1/2*s_14*s_23...  \n"
     ]
    }
   ],
   "source": [
    "df = pd.DataFrame(data)\n",
    "\n",
    "df.to_csv(output_file, index=False)\n",
    "\n",
    "print(f\"✅ Processed {len(df)} samples.\")\n",
    "print(df.head())\n"
   ]
  },
  {
   "cell_type": "code",
   "execution_count": null,
   "metadata": {},
   "outputs": [],
   "source": []
  }
 ],
 "metadata": {
  "kernelspec": {
   "display_name": "venv",
   "language": "python",
   "name": "python3"
  },
  "language_info": {
   "codemirror_mode": {
    "name": "ipython",
    "version": 3
   },
   "file_extension": ".py",
   "mimetype": "text/x-python",
   "name": "python",
   "nbconvert_exporter": "python",
   "pygments_lexer": "ipython3",
   "version": "3.12.4"
  }
 },
 "nbformat": 4,
 "nbformat_minor": 2
}
