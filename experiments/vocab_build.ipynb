{
 "cells": [
  {
   "cell_type": "code",
   "execution_count": 3,
   "metadata": {},
   "outputs": [],
   "source": [
    "import pickle"
   ]
  },
  {
   "cell_type": "code",
   "execution_count": 4,
   "metadata": {},
   "outputs": [],
   "source": [
    "refined_unique_tokens = [\n",
    "    '(', ')', '*', '+', '-', '/', '0', '1', '2', '3', '4', '5', '6', '7', '8', '9',\n",
    "    'A', 'A_lambda', 'A_mu', 'A_nu', 'A_rho', 'A_tau', 'AntiPart', 'V_0', 'V_1', 'X',\n",
    "    '[STATE_ID]', '^', '_u', '_v', 'alpha', 'alpha_[STATE_ID]', 'b', 'b_alpha', 'b_beta',\n",
    "    'b_delta', 'b_eps', 'b_eta', 'b_gam', 'beta', 'beta_[STATE_ID]', 'c', 'c_alpha_[STATE_ID]',\n",
    "    'c_beta_[STATE_ID]', 'c_delta_[STATE_ID]', 'c_eps_[STATE_ID]', 'c_eta_[STATE_ID]',\n",
    "    'c_gam_[STATE_ID]', 'd', 'd_alpha', 'd_beta', 'd_delta', 'd_eps', 'd_eta', 'd_gam',\n",
    "    'delta', 'delta_[STATE_ID]', 'e', 'eps', 'eps_[STATE_ID]', 'eta', 'eta_[STATE_ID]',\n",
    "    'gam', 'gam_[STATE_ID]', 'gamma', 'i', 'j', 'k', 'l', 'lambda', 'm_b', 'm_c', 'm_d',\n",
    "    'm_e', 'm_mu', 'm_s', 'm_t', 'm_tt', 'm_u', 'mu', 'mu_alpha_[STATE_ID]', 'mu_beta_[STATE_ID]',\n",
    "    'mu_delta_[STATE_ID]', 'mu_eps_[STATE_ID]', 'mu_eta_[STATE_ID]', 'mu_gam_[STATE_ID]', 'nu',\n",
    "    'p', 'reg_prop', 'rho', 's', 's_11', 's_12', 's_13', 's_14', 's_22', 's_23', 's_24',\n",
    "    's_33', 's_34', 's_44', 's_alpha', 's_beta', 's_delta', 's_eps', 's_eta', 's_gam',\n",
    "    'sigma', 't', 't_alpha', 't_beta', 't_delta', 't_eps', 't_eta', 't_gam', 'tau', 'tt',\n",
    "    'tt_alpha', 'tt_beta', 'tt_delta', 'tt_eps', 'tt_eta', 'tt_gam', 'u', 'u_alpha_[STATE_ID]',\n",
    "    'u_beta_[STATE_ID]', 'u_delta_[STATE_ID]', 'u_eps_[STATE_ID]', 'u_eta_[STATE_ID]',\n",
    "    'u_gam_[STATE_ID]', '{', '}', '%\\\\lambda', '%\\\\mu', '%\\\\nu', '%\\\\rho', '%\\\\sigma', '%\\\\tau'\n",
    "]"
   ]
  },
  {
   "cell_type": "code",
   "execution_count": 5,
   "metadata": {},
   "outputs": [],
   "source": [
    "\n",
    "vocab = {}\n",
    "\n",
    "special_tokens = [\"[CLS]\", \"[SEP]\", \"[PAD]\", \"[MASK]\", \"[STATE_ID]\", \"[UNK]\"]\n",
    "for i, token in enumerate(special_tokens):\n",
    "    vocab[token] = i\n",
    "\n",
    "for token in sorted(refined_unique_tokens):\n",
    "    if token not in vocab:  \n",
    "        vocab[token] = len(vocab)"
   ]
  },
  {
   "cell_type": "code",
   "execution_count": 6,
   "metadata": {},
   "outputs": [
    {
     "name": "stdout",
     "output_type": "stream",
     "text": [
      "\n",
      "Vocabulary size: 143\n",
      "Sample vocabulary entries:\n",
      "[CLS]: 0\n",
      "[SEP]: 1\n",
      "[PAD]: 2\n",
      "[MASK]: 3\n",
      "[STATE_ID]: 4\n",
      "[UNK]: 5\n",
      "%\\lambda: 6\n",
      "%\\mu: 7\n",
      "%\\nu: 8\n",
      "%\\rho: 9\n",
      "...\n",
      "tt_gam: 133\n",
      "u: 134\n",
      "u_alpha_[STATE_ID]: 135\n",
      "u_beta_[STATE_ID]: 136\n",
      "u_delta_[STATE_ID]: 137\n",
      "u_eps_[STATE_ID]: 138\n",
      "u_eta_[STATE_ID]: 139\n",
      "u_gam_[STATE_ID]: 140\n",
      "{: 141\n",
      "}: 142\n"
     ]
    }
   ],
   "source": [
    "print(f\"\\nVocabulary size: {len(vocab)}\")\n",
    "print(\"Sample vocabulary entries:\")\n",
    "for token, idx in list(vocab.items())[:10]:\n",
    "    print(f\"{token}: {idx}\")\n",
    "print(\"...\")\n",
    "for token, idx in list(vocab.items())[-10:]:\n",
    "    print(f\"{token}: {idx}\")"
   ]
  },
  {
   "cell_type": "code",
   "execution_count": 13,
   "metadata": {},
   "outputs": [],
   "source": [
    "with open(\"../QED_data/vocab.pkl\", \"wb\") as f:\n",
    "    pickle.dump(vocab, f)\n",
    "    "
   ]
  },
  {
   "cell_type": "code",
   "execution_count": null,
   "metadata": {},
   "outputs": [],
   "source": []
  }
 ],
 "metadata": {
  "kernelspec": {
   "display_name": "venv",
   "language": "python",
   "name": "python3"
  },
  "language_info": {
   "codemirror_mode": {
    "name": "ipython",
    "version": 3
   },
   "file_extension": ".py",
   "mimetype": "text/x-python",
   "name": "python",
   "nbconvert_exporter": "python",
   "pygments_lexer": "ipython3",
   "version": "3.12.4"
  }
 },
 "nbformat": 4,
 "nbformat_minor": 2
}
